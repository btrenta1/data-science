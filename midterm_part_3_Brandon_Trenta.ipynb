{
  "nbformat": 4,
  "nbformat_minor": 0,
  "metadata": {
    "colab": {
      "provenance": [],
      "authorship_tag": "ABX9TyM3S/boD8xTNk2DRwAgEyvi",
      "include_colab_link": true
    },
    "kernelspec": {
      "name": "python3",
      "display_name": "Python 3"
    },
    "language_info": {
      "name": "python"
    }
  },
  "cells": [
    {
      "cell_type": "markdown",
      "metadata": {
        "id": "view-in-github",
        "colab_type": "text"
      },
      "source": [
        "<a href=\"https://colab.research.google.com/github/btrenta1/data-science/blob/main/midterm_part_3_Brandon_Trenta.ipynb\" target=\"_parent\"><img src=\"https://colab.research.google.com/assets/colab-badge.svg\" alt=\"Open In Colab\"/></a>"
      ]
    },
    {
      "cell_type": "code",
      "execution_count": 1,
      "metadata": {
        "id": "YL5lT_nFQzDB"
      },
      "outputs": [],
      "source": [
        "import numpy as np #import numpy\n",
        "import matplotlib.pyplot as plt #import matplotlib"
      ]
    },
    {
      "cell_type": "code",
      "source": [
        "X = np.array([12,9,20,7,2]) #x values\n",
        "Y = np.array([38,28,63,22,6]) # y values"
      ],
      "metadata": {
        "id": "ijWA-VAeRIVJ"
      },
      "execution_count": 2,
      "outputs": []
    },
    {
      "cell_type": "code",
      "source": [
        "plt.plot(X,Y,'r.') #plot the data with red dots"
      ],
      "metadata": {
        "colab": {
          "base_uri": "https://localhost:8080/",
          "height": 283
        },
        "id": "Qr-_5zGHRIey",
        "outputId": "ba66fd48-e023-4801-ca39-0452c6a026a7"
      },
      "execution_count": 3,
      "outputs": [
        {
          "output_type": "execute_result",
          "data": {
            "text/plain": [
              "[<matplotlib.lines.Line2D at 0x7ff258f8c7d0>]"
            ]
          },
          "metadata": {},
          "execution_count": 3
        },
        {
          "output_type": "display_data",
          "data": {
            "text/plain": [
              "<Figure size 432x288 with 1 Axes>"
            ],
            "image/png": "[encoded data removed]"
          },
          "metadata": {
            "needs_background": "light"
          }
        }
      ]
    },
    {
      "cell_type": "code",
      "source": [
        "m_guess = 0\n",
        "b_guess = 0"
      ],
      "metadata": {
        "id": "m_AELu14RXbZ"
      },
      "execution_count": 4,
      "outputs": []
    },
    {
      "cell_type": "code",
      "source": [
        "m_guess * X + b_guess"
      ],
      "metadata": {
        "colab": {
          "base_uri": "https://localhost:8080/"
        },
        "id": "v6T26OW0RXdj",
        "outputId": "56535a81-3a82-424d-d173-024ede7fddac"
      },
      "execution_count": 5,
      "outputs": [
        {
          "output_type": "execute_result",
          "data": {
            "text/plain": [
              "array([0, 0, 0, 0, 0])"
            ]
          },
          "metadata": {},
          "execution_count": 5
        }
      ]
    },
    {
      "cell_type": "code",
      "source": [
        "y_guess = m_guess * X + b_guess"
      ],
      "metadata": {
        "id": "PxoTu2b4RXfg"
      },
      "execution_count": 6,
      "outputs": []
    },
    {
      "cell_type": "code",
      "source": [
        "y_guess - Y"
      ],
      "metadata": {
        "colab": {
          "base_uri": "https://localhost:8080/"
        },
        "id": "ZQt_BQXRRXhQ",
        "outputId": "e64cd459-70de-46f8-a180-00a7068615cf"
      },
      "execution_count": 7,
      "outputs": [
        {
          "output_type": "execute_result",
          "data": {
            "text/plain": [
              "array([-38, -28, -63, -22,  -6])"
            ]
          },
          "metadata": {},
          "execution_count": 7
        }
      ]
    },
    {
      "cell_type": "code",
      "source": [
        "(y_guess - Y)**2"
      ],
      "metadata": {
        "colab": {
          "base_uri": "https://localhost:8080/"
        },
        "id": "1sHJmqieRXjF",
        "outputId": "287fe54b-2789-42d7-a580-aa70b8b03165"
      },
      "execution_count": 8,
      "outputs": [
        {
          "output_type": "execute_result",
          "data": {
            "text/plain": [
              "array([1444,  784, 3969,  484,   36])"
            ]
          },
          "metadata": {},
          "execution_count": 8
        }
      ]
    },
    {
      "cell_type": "code",
      "source": [
        "np.sum((y_guess - Y)**2)"
      ],
      "metadata": {
        "colab": {
          "base_uri": "https://localhost:8080/"
        },
        "id": "MF-6xy8bRIhM",
        "outputId": "859cd862-8b7e-41b4-e1e6-2133209dc120"
      },
      "execution_count": 9,
      "outputs": [
        {
          "output_type": "execute_result",
          "data": {
            "text/plain": [
              "6717"
            ]
          },
          "metadata": {},
          "execution_count": 9
        }
      ]
    },
    {
      "cell_type": "code",
      "source": [
        "loss = np.sum((y_guess - Y)**2)"
      ],
      "metadata": {
        "id": "YHO1a1k_RIjj"
      },
      "execution_count": 10,
      "outputs": []
    },
    {
      "cell_type": "code",
      "source": [
        "best_loss_so_far = 1000000000000\n",
        "\n",
        "m_best = 0\n",
        "b_best = 0\n",
        "\n",
        "for m_guess in np.linspace(-100,100,100):\n",
        "  for b_guess in np.linspace(-100,100,100):\n",
        "    \n",
        "\n",
        "    y_guess = m_guess * X + b_guess\n",
        "\n",
        "    loss = np.sum((y_guess - Y)**2)\n",
        "\n",
        "\n",
        "    if loss < best_loss_so_far:\n",
        "        m_best = m_guess\n",
        "        b_best = b_guess\n",
        "        best_loss_so_far = loss\n",
        "\n",
        "\n",
        "print(\"Found better fit:\")\n",
        "print(m_best,b_best,loss)"
      ],
      "metadata": {
        "colab": {
          "base_uri": "https://localhost:8080/"
        },
        "id": "2sqgFPe2U6Yn",
        "outputId": "591e5fb3-7b47-42b0-b8ca-639e4bcf3028"
      },
      "execution_count": 11,
      "outputs": [
        {
          "output_type": "stream",
          "name": "stdout",
          "text": [
            "Found better fit:\n",
            "3.030303030303031 1.0101010101010104 7378517.0\n"
          ]
        }
      ]
    },
    {
      "cell_type": "markdown",
      "source": [
        "Interpretation"
      ],
      "metadata": {
        "id": "lIQjkjQ2fQhw"
      }
    },
    {
      "cell_type": "markdown",
      "source": [
        "What do $m$ and $b$ represent in these equations?\n",
        "\n",
        "m represents the slope of the desired line, while b represents the y axis"
      ],
      "metadata": {
        "id": "i6V29CtoebWo"
      }
    },
    {
      "cell_type": "markdown",
      "source": [
        "Guess what the correct values  𝑚  and  𝑏  should be.\n",
        "\n",
        "m would be 1 while b would be 3"
      ],
      "metadata": {
        "id": "OtKHO97ge2AI"
      }
    },
    {
      "cell_type": "markdown",
      "source": [
        "Does it make sense to include  𝑏  in the parameters?\n",
        "\n",
        "Yes because it is provides the y intercept which is important for the line of best fit"
      ],
      "metadata": {
        "id": "TFyG3hG3fDRJ"
      }
    },
    {
      "cell_type": "code",
      "source": [],
      "metadata": {
        "id": "24SLgGoJWr7e"
      },
      "execution_count": 11,
      "outputs": []
    },
    {
      "cell_type": "markdown",
      "source": [
        "Part 1 of original"
      ],
      "metadata": {
        "id": "V3_Y-5dnfyXm"
      }
    },
    {
      "cell_type": "code",
      "source": [
        "url = \"https://docs.google.com/spreadsheets/d/1zQDNcQHuKeUPCXYHZqLn-tNzwupQIwEndBMUIXMsLVA/edit#gid=0\" #url to spreadsheet"
      ],
      "metadata": {
        "id": "T930p_J4U6dI"
      },
      "execution_count": 12,
      "outputs": []
    },
    {
      "cell_type": "code",
      "source": [
        "data = get_database(url) #bring in data"
      ],
      "metadata": {
        "colab": {
          "base_uri": "https://localhost:8080/",
          "height": 169
        },
        "id": "hKskpqZ7U6fH",
        "outputId": "d90d95ef-bbf1-4879-a660-a8148ad42d43"
      },
      "execution_count": 13,
      "outputs": [
        {
          "output_type": "error",
          "ename": "NameError",
          "evalue": "ignored",
          "traceback": [
            "\u001b[0;31m---------------------------------------------------------------------------\u001b[0m",
            "\u001b[0;31mNameError\u001b[0m                                 Traceback (most recent call last)",
            "\u001b[0;32m<ipython-input-13-4d953aeb82ab>\u001b[0m in \u001b[0;36m<module>\u001b[0;34m\u001b[0m\n\u001b[0;32m----> 1\u001b[0;31m \u001b[0mdata\u001b[0m \u001b[0;34m=\u001b[0m \u001b[0mget_database\u001b[0m\u001b[0;34m(\u001b[0m\u001b[0murl\u001b[0m\u001b[0;34m)\u001b[0m\u001b[0;34m\u001b[0m\u001b[0;34m\u001b[0m\u001b[0m\n\u001b[0m",
            "\u001b[0;31mNameError\u001b[0m: name 'get_database' is not defined"
          ]
        }
      ]
    },
    {
      "cell_type": "code",
      "source": [
        "data = np.array(data) #data chart\n",
        "print(data)\n",
        "circumferences = ...\n",
        "diameters = ..."
      ],
      "metadata": {
        "id": "65UihgggU6hl"
      },
      "execution_count": null,
      "outputs": []
    },
    {
      "cell_type": "code",
      "source": [],
      "metadata": {
        "id": "07rnEqSPU6jo"
      },
      "execution_count": null,
      "outputs": []
    },
    {
      "cell_type": "code",
      "source": [],
      "metadata": {
        "id": "eXzNBZA7U6l_"
      },
      "execution_count": null,
      "outputs": []
    },
    {
      "cell_type": "code",
      "source": [],
      "metadata": {
        "id": "es3nzfUERIlu"
      },
      "execution_count": null,
      "outputs": []
    }
  ]
}